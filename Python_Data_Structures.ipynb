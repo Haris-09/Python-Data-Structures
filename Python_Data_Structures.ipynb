{
  "nbformat": 4,
  "nbformat_minor": 0,
  "metadata": {
    "colab": {
      "provenance": [],
      "authorship_tag": "ABX9TyPeUBP3GxOyxwQEAhL3ifUQ",
      "include_colab_link": true
    },
    "kernelspec": {
      "name": "python3",
      "display_name": "Python 3"
    },
    "language_info": {
      "name": "python"
    }
  },
  "cells": [
    {
      "cell_type": "markdown",
      "metadata": {
        "id": "view-in-github",
        "colab_type": "text"
      },
      "source": [
        "<a href=\"https://colab.research.google.com/github/Haris-09/Python-Data-Structures/blob/main/Python_Data_Structures.ipynb\" target=\"_parent\"><img src=\"https://colab.research.google.com/assets/colab-badge.svg\" alt=\"Open In Colab\"/></a>"
      ]
    },
    {
      "cell_type": "markdown",
      "source": [
        "#Stack"
      ],
      "metadata": {
        "id": "oNKb_s9iNcKm"
      }
    },
    {
      "cell_type": "code",
      "execution_count": null,
      "metadata": {
        "id": "wSAeFnEfNR6P"
      },
      "outputs": [],
      "source": [
        "class stack:\n",
        "    # by default pass in [] as the initial value\n",
        "    def __init__(self, initialVal=[]):\n",
        "        self.stack = initialVal\n",
        "\n",
        "    # push is to append to the tail of the list\n",
        "    def push(self, elem):\n",
        "        self.stack.append(elem)\n",
        "        return self.stack\n",
        "\n",
        "    # pop is to remove from the tail of the list\n",
        "    def pop(self):\n",
        "        return self.stack.pop(-1)\n",
        "\n",
        "    def checkStack(self):\n",
        "        print(self.stack)\n",
        "\n",
        "    def checkTop(self):\n",
        "        print(self.stack[-1])"
      ]
    },
    {
      "cell_type": "code",
      "source": [
        "mystack = stack()\n",
        "mystack.push(1)\n",
        "mystack.push(2)\n",
        "mystack.push(3)\n",
        "mystack.push(4)"
      ],
      "metadata": {
        "colab": {
          "base_uri": "https://localhost:8080/"
        },
        "id": "WXEaAYHnNrk3",
        "outputId": "a507ff49-7662-4881-c03f-e0376d8e999e"
      },
      "execution_count": null,
      "outputs": [
        {
          "output_type": "execute_result",
          "data": {
            "text/plain": [
              "[1, 1, 2, 3, 4]"
            ]
          },
          "metadata": {},
          "execution_count": 6
        }
      ]
    },
    {
      "cell_type": "code",
      "source": [
        "mystack.pop()\n",
        "mystack.checkStack()"
      ],
      "metadata": {
        "colab": {
          "base_uri": "https://localhost:8080/"
        },
        "id": "_07khZcPN3vY",
        "outputId": "3b1837bb-9d6f-456d-93fb-c8f496dd53ee"
      },
      "execution_count": null,
      "outputs": [
        {
          "output_type": "stream",
          "name": "stdout",
          "text": [
            "[1, 1, 2, 3]\n"
          ]
        }
      ]
    },
    {
      "cell_type": "code",
      "source": [
        "mystack.checkTop()"
      ],
      "metadata": {
        "colab": {
          "base_uri": "https://localhost:8080/"
        },
        "id": "c5mZJJecOilp",
        "outputId": "2b29d48f-d5f1-47e1-e92f-369a728dcc49"
      },
      "execution_count": null,
      "outputs": [
        {
          "output_type": "stream",
          "name": "stdout",
          "text": [
            "3\n"
          ]
        }
      ]
    },
    {
      "cell_type": "markdown",
      "source": [
        "#Queue"
      ],
      "metadata": {
        "id": "ys_8OJUjO4hN"
      }
    },
    {
      "cell_type": "code",
      "source": [
        "class queue:\n",
        "    # by default pass in [] as the initial value\n",
        "    def __init__(self, initialVal=[]):\n",
        "        self.queue = initialVal\n",
        "\n",
        "    # enqueue is to append to the tail of the list\n",
        "    def enqueue(self, elem):\n",
        "        self.queue.append(elem)\n",
        "        return self.queue\n",
        "\n",
        "    # dequeue is to remove from the head of the list\n",
        "    def dequeue(self):\n",
        "        return self.queue.pop(0)\n",
        "\n",
        "    def checkQueue(self):\n",
        "        print(self.queue)\n",
        "\n",
        "    def checkHead(self):\n",
        "        print(self.queue[0])\n",
        "\n",
        "    def checkTail(self):\n",
        "        print(self.queue[-1])"
      ],
      "metadata": {
        "id": "20G_0UuMOnnQ"
      },
      "execution_count": null,
      "outputs": []
    },
    {
      "cell_type": "code",
      "source": [
        "myqueue = queue()"
      ],
      "metadata": {
        "id": "ugAUZMn0SUd3"
      },
      "execution_count": null,
      "outputs": []
    },
    {
      "cell_type": "code",
      "source": [
        "myqueue.enqueue(1)\n",
        "myqueue.enqueue(2)\n",
        "myqueue.enqueue(3)\n",
        "myqueue.enqueue(4)\n",
        "myqueue.enqueue(5)\n",
        "myqueue.enqueue(6)"
      ],
      "metadata": {
        "colab": {
          "base_uri": "https://localhost:8080/"
        },
        "id": "7_9Fr6c8SrZO",
        "outputId": "9e3bb58d-5e69-42fc-8310-e333cba75a32"
      },
      "execution_count": null,
      "outputs": [
        {
          "output_type": "execute_result",
          "data": {
            "text/plain": [
              "[1, 2, 3, 4, 5, 6]"
            ]
          },
          "metadata": {},
          "execution_count": 13
        }
      ]
    },
    {
      "cell_type": "code",
      "source": [
        "myqueue.dequeue()\n",
        "myqueue.checkQueue()"
      ],
      "metadata": {
        "colab": {
          "base_uri": "https://localhost:8080/"
        },
        "id": "8GJ466JsS5WV",
        "outputId": "fc97eddd-062b-45b7-bcdd-5d6cfd714f90"
      },
      "execution_count": null,
      "outputs": [
        {
          "output_type": "stream",
          "name": "stdout",
          "text": [
            "[2, 3, 4, 5, 6]\n"
          ]
        }
      ]
    },
    {
      "cell_type": "markdown",
      "source": [
        "Double-ended Queue (Deque)"
      ],
      "metadata": {
        "id": "EXCX-DrLskI7"
      }
    },
    {
      "cell_type": "code",
      "source": [
        "from collections import deque\n",
        "queue = deque([])"
      ],
      "metadata": {
        "id": "1aw-fzpxTP25"
      },
      "execution_count": null,
      "outputs": []
    },
    {
      "cell_type": "code",
      "source": [
        "from collections import deque\n",
        "\n",
        "queue = deque([])          # Create an empty deque, current deque: []\n",
        "queue.appendleft(5)        # Add 5 to the front of the queue, current deque: [5]\n",
        "queue.appendleft(1)        # Add 1 to the front of the queue, current deque: [1, 5]\n",
        "element = queue.pop()      # Pop 5 from the end of the queue, current deque: [1]\n",
        "next_element = queue.pop() # Pop 1 from the end of the queue, current deque: []"
      ],
      "metadata": {
        "id": "yRyk55PjstBI"
      },
      "execution_count": null,
      "outputs": []
    },
    {
      "cell_type": "code",
      "source": [
        "queue = [2, 3, 4, 5]\n",
        "queue.insert(0, 1)    # Add 1 at index 0, [1, 2, 3, 4, 5]\n",
        "element = queue.pop() # Pop 5 from the end, [1, 2, 3, 4]"
      ],
      "metadata": {
        "id": "zk1Zpoc2s-hE"
      },
      "execution_count": null,
      "outputs": []
    },
    {
      "cell_type": "code",
      "source": [
        "queue = [5, 4, 3, 2]\n",
        "queue.append(1)        # Add 1 to the end, [5, 4, 3, 2, 1]\n",
        "element = queue.pop(0) # Pop 5 from the front, [4, 3, 2, 1]"
      ],
      "metadata": {
        "id": "lmfjjcBKtCOE"
      },
      "execution_count": null,
      "outputs": []
    },
    {
      "cell_type": "markdown",
      "source": [
        "#Set"
      ],
      "metadata": {
        "id": "UqYexSSmKNcr"
      }
    },
    {
      "cell_type": "code",
      "source": [
        "# set has some useful functions\n",
        "# UNION, INTERSECTION AND DIFFERENCE\n",
        "\n",
        "myset1 = set([1,2,3,4,4,4])\n",
        "myset2 = set([4,5,5,6,6,6])\n",
        "\n",
        "print(f\"union: {myset1.union(myset2)}\")\n",
        "print(f\"intersection: {myset1.intersection(myset2)}\")\n",
        "print(f\"difference: {myset1.difference(myset2)}\")"
      ],
      "metadata": {
        "id": "YNdhCQOgtH5Y",
        "colab": {
          "base_uri": "https://localhost:8080/"
        },
        "outputId": "d8491c3c-a777-4151-d6b6-1db2f6af932e"
      },
      "execution_count": 1,
      "outputs": [
        {
          "output_type": "stream",
          "name": "stdout",
          "text": [
            "union: {1, 2, 3, 4, 5, 6}\n",
            "intersection: {4}\n",
            "difference: {1, 2, 3}\n"
          ]
        }
      ]
    },
    {
      "cell_type": "code",
      "source": [
        "# set initialization by passing in a list\n",
        "myset = set([1, 2, 3, 3, 3])\n",
        "\n",
        "# set initialization using {}\n",
        "myset = {1, 2, 3, 3, 3}\n",
        "\n",
        "# iteration of set\n",
        "for ele in myset:\n",
        "  print(ele)\n",
        "\n",
        "# check if ele in set:\n",
        "print(True if ele in myset else False)\n",
        "\n",
        "# add an element to set:\n",
        "myset.add(ele)\n",
        "\n",
        "# remove an element from set\n",
        "myset.remove(ele)\n",
        "\n",
        "# get length of the set\n",
        "print(len(myset))"
      ],
      "metadata": {
        "colab": {
          "base_uri": "https://localhost:8080/"
        },
        "id": "EN330GkUMDwt",
        "outputId": "f1992cef-2de3-4a2e-ecbe-f7aa0951054d"
      },
      "execution_count": 2,
      "outputs": [
        {
          "output_type": "stream",
          "name": "stdout",
          "text": [
            "1\n",
            "2\n",
            "3\n",
            "True\n",
            "2\n"
          ]
        }
      ]
    },
    {
      "cell_type": "markdown",
      "source": [
        "#Dictionary"
      ],
      "metadata": {
        "id": "Q4ED1fHdKKsy"
      }
    },
    {
      "cell_type": "code",
      "source": [
        "# dictionary initialization using {}\n",
        "mydict = {'a': 1, 'b': 2}\n",
        "\n",
        "# add new (key,value) pair\n",
        "mydict['c'] = 3\n",
        "\n",
        "# modify existing (key,value) pair\n",
        "mydict['a'] = 5\n",
        "\n",
        "# remove (key,value) pair\n",
        "mydict.pop('a')\n",
        "\n",
        "# get length of the dictionary\n",
        "print('length of dictionary is {}'.format(len(mydict)))\n",
        "\n",
        "# iteration through keys\n",
        "for key in mydict.keys():\n",
        "    print(key)\n",
        "\n",
        "# iteration through values\n",
        "for value in mydict.values():\n",
        "    print(value)\n",
        "\n",
        "# iteration through (key,value) pairs\n",
        "for key, value in mydict.items():\n",
        "    print(key,value)"
      ],
      "metadata": {
        "colab": {
          "base_uri": "https://localhost:8080/"
        },
        "id": "Xcn25a4JMnLN",
        "outputId": "21d8515e-47c8-4270-ef21-9c864a8ca249"
      },
      "execution_count": 7,
      "outputs": [
        {
          "output_type": "stream",
          "name": "stdout",
          "text": [
            "length of dictionary is 2\n",
            "b\n",
            "c\n",
            "2\n",
            "3\n",
            "b 2\n",
            "c 3\n"
          ]
        }
      ]
    },
    {
      "cell_type": "markdown",
      "source": [
        "#Linked List"
      ],
      "metadata": {
        "id": "1F-s0aa4OgYm"
      }
    },
    {
      "cell_type": "markdown",
      "source": [
        "A linked list is a linear data structure, with the previous node pointing to the next node. It can be implemented by defining a ListNode class."
      ],
      "metadata": {
        "id": "0M7eWF6mTm-e"
      }
    },
    {
      "cell_type": "code",
      "source": [
        "class ListNode:\n",
        "    def __init__(self, val):\n",
        "        self.val = val\n",
        "        self.next = None"
      ],
      "metadata": {
        "id": "G3Qu_QrQNUIn"
      },
      "execution_count": 8,
      "outputs": []
    },
    {
      "cell_type": "code",
      "source": [
        "# initiation of linked list\n",
        "headNode = ListNode(1)\n",
        "secondNode = ListNode(2)\n",
        "thirdNode = ListNode(3)\n",
        "\n",
        "headNode.next = secondNode\n",
        "secondNode.next = thirdNode"
      ],
      "metadata": {
        "id": "Qpa0DwmWTrO-"
      },
      "execution_count": 9,
      "outputs": []
    },
    {
      "cell_type": "code",
      "source": [
        "# iterate through the linked list\n",
        "curNode = headNode\n",
        "while curNode:\n",
        "    print(curNode.val)\n",
        "    curNode = curNode.next"
      ],
      "metadata": {
        "colab": {
          "base_uri": "https://localhost:8080/"
        },
        "id": "cZheGjSXUG3p",
        "outputId": "ceb97e2b-f9cf-4273-fa3c-17c57cad1613"
      },
      "execution_count": 10,
      "outputs": [
        {
          "output_type": "stream",
          "name": "stdout",
          "text": [
            "1\n",
            "2\n",
            "3\n"
          ]
        }
      ]
    },
    {
      "cell_type": "code",
      "source": [
        "# insert new listnode with value of 5 in between the secondNode and thirdNode\n",
        "curNode = headNode\n",
        "while curNode.val != 2:\n",
        "    curNode = curNode.next\n",
        "newNode = ListNode(5)\n",
        "newNode.next = curNode.next\n",
        "curNode.next = newNode"
      ],
      "metadata": {
        "id": "W-aJq2SpUiCR"
      },
      "execution_count": 11,
      "outputs": []
    },
    {
      "cell_type": "code",
      "source": [],
      "metadata": {
        "id": "AUwZk7oiUwE9"
      },
      "execution_count": null,
      "outputs": []
    }
  ]
}