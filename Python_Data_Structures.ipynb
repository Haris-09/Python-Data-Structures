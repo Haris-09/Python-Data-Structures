{
  "nbformat": 4,
  "nbformat_minor": 0,
  "metadata": {
    "colab": {
      "provenance": [],
      "authorship_tag": "ABX9TyOqsA7MxfaN+z/mk7hm8oIJ",
      "include_colab_link": true
    },
    "kernelspec": {
      "name": "python3",
      "display_name": "Python 3"
    },
    "language_info": {
      "name": "python"
    }
  },
  "cells": [
    {
      "cell_type": "markdown",
      "metadata": {
        "id": "view-in-github",
        "colab_type": "text"
      },
      "source": [
        "<a href=\"https://colab.research.google.com/github/Haris-09/Python-Data-Structures/blob/main/Python_Data_Structures.ipynb\" target=\"_parent\"><img src=\"https://colab.research.google.com/assets/colab-badge.svg\" alt=\"Open In Colab\"/></a>"
      ]
    },
    {
      "cell_type": "markdown",
      "source": [
        "#Stack"
      ],
      "metadata": {
        "id": "oNKb_s9iNcKm"
      }
    },
    {
      "cell_type": "code",
      "execution_count": 1,
      "metadata": {
        "id": "wSAeFnEfNR6P"
      },
      "outputs": [],
      "source": [
        "class stack:\n",
        "    # by default pass in [] as the initial value\n",
        "    def __init__(self, initialVal=[]):\n",
        "        self.stack = initialVal\n",
        "\n",
        "    # push is to append to the tail of the list\n",
        "    def push(self, elem):\n",
        "        self.stack.append(elem)\n",
        "        return self.stack\n",
        "\n",
        "    # pop is to remove from the tail of the list\n",
        "    def pop(self):\n",
        "        return self.stack.pop(-1)\n",
        "\n",
        "    def checkStack(self):\n",
        "        print(self.stack)\n",
        "\n",
        "    def checkTop(self):\n",
        "        print(self.stack[-1])"
      ]
    },
    {
      "cell_type": "code",
      "source": [
        "mystack = stack()\n",
        "mystack.push(1)\n",
        "mystack.push(2)\n",
        "mystack.push(3)\n",
        "mystack.push(4)"
      ],
      "metadata": {
        "colab": {
          "base_uri": "https://localhost:8080/"
        },
        "id": "WXEaAYHnNrk3",
        "outputId": "a507ff49-7662-4881-c03f-e0376d8e999e"
      },
      "execution_count": 6,
      "outputs": [
        {
          "output_type": "execute_result",
          "data": {
            "text/plain": [
              "[1, 1, 2, 3, 4]"
            ]
          },
          "metadata": {},
          "execution_count": 6
        }
      ]
    },
    {
      "cell_type": "code",
      "source": [
        "mystack.pop()\n",
        "mystack.checkStack()"
      ],
      "metadata": {
        "colab": {
          "base_uri": "https://localhost:8080/"
        },
        "id": "_07khZcPN3vY",
        "outputId": "3b1837bb-9d6f-456d-93fb-c8f496dd53ee"
      },
      "execution_count": 7,
      "outputs": [
        {
          "output_type": "stream",
          "name": "stdout",
          "text": [
            "[1, 1, 2, 3]\n"
          ]
        }
      ]
    },
    {
      "cell_type": "code",
      "source": [
        "mystack.checkTop()"
      ],
      "metadata": {
        "colab": {
          "base_uri": "https://localhost:8080/"
        },
        "id": "c5mZJJecOilp",
        "outputId": "2b29d48f-d5f1-47e1-e92f-369a728dcc49"
      },
      "execution_count": 9,
      "outputs": [
        {
          "output_type": "stream",
          "name": "stdout",
          "text": [
            "3\n"
          ]
        }
      ]
    },
    {
      "cell_type": "markdown",
      "source": [
        "#Queue"
      ],
      "metadata": {
        "id": "ys_8OJUjO4hN"
      }
    },
    {
      "cell_type": "code",
      "source": [
        "class queue:\n",
        "    # by default pass in [] as the initial value\n",
        "    def __init__(self, initialVal=[]):\n",
        "        self.queue = initialVal\n",
        "\n",
        "    # enqueue is to append to the tail of the list\n",
        "    def enqueue(self, elem):\n",
        "        self.queue.append(elem)\n",
        "        return self.queue\n",
        "\n",
        "    # dequeue is to remove from the head of the list\n",
        "    def dequeue(self):\n",
        "        return self.queue.pop(0)\n",
        "\n",
        "    def checkQueue(self):\n",
        "        print(self.queue)\n",
        "\n",
        "    def checkHead(self):\n",
        "        print(self.queue[0])\n",
        "\n",
        "    def checkTail(self):\n",
        "        print(self.queue[-1])"
      ],
      "metadata": {
        "id": "20G_0UuMOnnQ"
      },
      "execution_count": 11,
      "outputs": []
    },
    {
      "cell_type": "code",
      "source": [
        "myqueue = queue()"
      ],
      "metadata": {
        "id": "ugAUZMn0SUd3"
      },
      "execution_count": 12,
      "outputs": []
    },
    {
      "cell_type": "code",
      "source": [
        "myqueue.enqueue(1)\n",
        "myqueue.enqueue(2)\n",
        "myqueue.enqueue(3)\n",
        "myqueue.enqueue(4)\n",
        "myqueue.enqueue(5)\n",
        "myqueue.enqueue(6)"
      ],
      "metadata": {
        "colab": {
          "base_uri": "https://localhost:8080/"
        },
        "id": "7_9Fr6c8SrZO",
        "outputId": "9e3bb58d-5e69-42fc-8310-e333cba75a32"
      },
      "execution_count": 13,
      "outputs": [
        {
          "output_type": "execute_result",
          "data": {
            "text/plain": [
              "[1, 2, 3, 4, 5, 6]"
            ]
          },
          "metadata": {},
          "execution_count": 13
        }
      ]
    },
    {
      "cell_type": "code",
      "source": [
        "myqueue.dequeue()\n",
        "myqueue.checkQueue()"
      ],
      "metadata": {
        "colab": {
          "base_uri": "https://localhost:8080/"
        },
        "id": "8GJ466JsS5WV",
        "outputId": "fc97eddd-062b-45b7-bcdd-5d6cfd714f90"
      },
      "execution_count": 14,
      "outputs": [
        {
          "output_type": "stream",
          "name": "stdout",
          "text": [
            "[2, 3, 4, 5, 6]\n"
          ]
        }
      ]
    },
    {
      "cell_type": "markdown",
      "source": [
        "Double-ended Queue (Deque)"
      ],
      "metadata": {
        "id": "EXCX-DrLskI7"
      }
    },
    {
      "cell_type": "code",
      "source": [
        "from collections import deque\n",
        "queue = deque([])"
      ],
      "metadata": {
        "id": "1aw-fzpxTP25"
      },
      "execution_count": 15,
      "outputs": []
    },
    {
      "cell_type": "code",
      "source": [
        "from collections import deque\n",
        "\n",
        "queue = deque([])          # Create an empty deque, current deque: []\n",
        "queue.appendleft(5)        # Add 5 to the front of the queue, current deque: [5]\n",
        "queue.appendleft(1)        # Add 1 to the front of the queue, current deque: [1, 5]\n",
        "element = queue.pop()      # Pop 5 from the end of the queue, current deque: [1]\n",
        "next_element = queue.pop() # Pop 1 from the end of the queue, current deque: []"
      ],
      "metadata": {
        "id": "yRyk55PjstBI"
      },
      "execution_count": 16,
      "outputs": []
    },
    {
      "cell_type": "code",
      "source": [
        "queue = [2, 3, 4, 5]\n",
        "queue.insert(0, 1)    # Add 1 at index 0, [1, 2, 3, 4, 5]\n",
        "element = queue.pop() # Pop 5 from the end, [1, 2, 3, 4]"
      ],
      "metadata": {
        "id": "zk1Zpoc2s-hE"
      },
      "execution_count": 17,
      "outputs": []
    },
    {
      "cell_type": "code",
      "source": [
        "queue = [5, 4, 3, 2]\n",
        "queue.append(1)        # Add 1 to the end, [5, 4, 3, 2, 1]\n",
        "element = queue.pop(0) # Pop 5 from the front, [4, 3, 2, 1]"
      ],
      "metadata": {
        "id": "lmfjjcBKtCOE"
      },
      "execution_count": 18,
      "outputs": []
    },
    {
      "cell_type": "code",
      "source": [],
      "metadata": {
        "id": "YNdhCQOgtH5Y"
      },
      "execution_count": null,
      "outputs": []
    }
  ]
}